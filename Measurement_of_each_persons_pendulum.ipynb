{
  "nbformat": 4,
  "nbformat_minor": 0,
  "metadata": {
    "colab": {
      "name": "Measurement of each persons pendulum.ipynb",
      "provenance": [],
      "collapsed_sections": [],
      "authorship_tag": "ABX9TyOJQqn8zZk/3vxtO3u0cXx3",
      "include_colab_link": true
    },
    "kernelspec": {
      "name": "python3",
      "display_name": "Python 3"
    }
  },
  "cells": [
    {
      "cell_type": "markdown",
      "metadata": {
        "id": "view-in-github",
        "colab_type": "text"
      },
      "source": [
        "<a href=\"https://colab.research.google.com/github/svendstar/MyAppliedStatistics2020repository/blob/main/Measurement_of_each_persons_pendulum.ipynb\" target=\"_parent\"><img src=\"https://colab.research.google.com/assets/colab-badge.svg\" alt=\"Open In Colab\"/></a>"
      ]
    },
    {
      "cell_type": "code",
      "metadata": {
        "colab": {
          "base_uri": "https://localhost:8080/"
        },
        "id": "0jMY7RRDMLMp",
        "outputId": "4d5843c9-71f7-4211-9d1a-92fe870361f9"
      },
      "source": [
        "!pip install iminuit"
      ],
      "execution_count": 1,
      "outputs": [
        {
          "output_type": "stream",
          "text": [
            "Collecting iminuit\n",
            "\u001b[?25l  Downloading https://files.pythonhosted.org/packages/98/a9/116d17ddf18855a81488f1930bcf4a2ce9a8b5255f310bceb71f0a838b53/iminuit-2.0.0-cp36-cp36m-manylinux2010_x86_64.whl (283kB)\n",
            "\r\u001b[K     |█▏                              | 10kB 14.3MB/s eta 0:00:01\r\u001b[K     |██▎                             | 20kB 19.1MB/s eta 0:00:01\r\u001b[K     |███▌                            | 30kB 18.5MB/s eta 0:00:01\r\u001b[K     |████▋                           | 40kB 12.6MB/s eta 0:00:01\r\u001b[K     |█████▊                          | 51kB 7.7MB/s eta 0:00:01\r\u001b[K     |███████                         | 61kB 8.0MB/s eta 0:00:01\r\u001b[K     |████████                        | 71kB 7.5MB/s eta 0:00:01\r\u001b[K     |█████████▎                      | 81kB 8.3MB/s eta 0:00:01\r\u001b[K     |██████████▍                     | 92kB 8.6MB/s eta 0:00:01\r\u001b[K     |███████████▌                    | 102kB 9.1MB/s eta 0:00:01\r\u001b[K     |████████████▊                   | 112kB 9.1MB/s eta 0:00:01\r\u001b[K     |█████████████▉                  | 122kB 9.1MB/s eta 0:00:01\r\u001b[K     |███████████████                 | 133kB 9.1MB/s eta 0:00:01\r\u001b[K     |████████████████▏               | 143kB 9.1MB/s eta 0:00:01\r\u001b[K     |█████████████████▎              | 153kB 9.1MB/s eta 0:00:01\r\u001b[K     |██████████████████▌             | 163kB 9.1MB/s eta 0:00:01\r\u001b[K     |███████████████████▋            | 174kB 9.1MB/s eta 0:00:01\r\u001b[K     |████████████████████▉           | 184kB 9.1MB/s eta 0:00:01\r\u001b[K     |██████████████████████          | 194kB 9.1MB/s eta 0:00:01\r\u001b[K     |███████████████████████         | 204kB 9.1MB/s eta 0:00:01\r\u001b[K     |████████████████████████▎       | 215kB 9.1MB/s eta 0:00:01\r\u001b[K     |█████████████████████████▍      | 225kB 9.1MB/s eta 0:00:01\r\u001b[K     |██████████████████████████▋     | 235kB 9.1MB/s eta 0:00:01\r\u001b[K     |███████████████████████████▊    | 245kB 9.1MB/s eta 0:00:01\r\u001b[K     |████████████████████████████▉   | 256kB 9.1MB/s eta 0:00:01\r\u001b[K     |██████████████████████████████  | 266kB 9.1MB/s eta 0:00:01\r\u001b[K     |███████████████████████████████▏| 276kB 9.1MB/s eta 0:00:01\r\u001b[K     |████████████████████████████████| 286kB 9.1MB/s \n",
            "\u001b[?25hRequirement already satisfied: numpy in /usr/local/lib/python3.6/dist-packages (from iminuit) (1.18.5)\n",
            "Installing collected packages: iminuit\n",
            "Successfully installed iminuit-2.0.0\n"
          ],
          "name": "stdout"
        }
      ]
    },
    {
      "cell_type": "markdown",
      "metadata": {
        "id": "dQwMBt21DIyh"
      },
      "source": [
        "# ***Measuring Error on each persons uncertainty in  measuring time: Pendulum.***"
      ]
    },
    {
      "cell_type": "code",
      "metadata": {
        "id": "f7mpxxxIDyyp"
      },
      "source": [
        "import numpy as np\r\n",
        "import matplotlib.pyplot as plt\r\n",
        "from iminuit import Minuit\r\n",
        "import os"
      ],
      "execution_count": 112,
      "outputs": []
    },
    {
      "cell_type": "code",
      "metadata": {
        "id": "BakoigO7DBnD",
        "colab": {
          "base_uri": "https://localhost:8080/"
        },
        "outputId": "f1e89184-49aa-4e0c-eb70-edc3493cc099"
      },
      "source": [
        "!git clone https://github.com/svendstar/MyAppliedStatistics2020repository #Clones my repository (Where i have stored all of the timing files) into Google Colab environment"
      ],
      "execution_count": 113,
      "outputs": [
        {
          "output_type": "stream",
          "text": [
            "fatal: destination path 'MyAppliedStatistics2020repository' already exists and is not an empty directory.\n"
          ],
          "name": "stdout"
        }
      ]
    },
    {
      "cell_type": "markdown",
      "metadata": {
        "id": "GIrdEoc0J6Qr"
      },
      "source": [
        "**I will now create a function that loads each .dat file in a given directory, and saves them under a variable of the same name as a file**"
      ]
    },
    {
      "cell_type": "markdown",
      "metadata": {
        "id": "Z5UzrLdFtKtl"
      },
      "source": [
        "#Groundwork"
      ]
    },
    {
      "cell_type": "markdown",
      "metadata": {
        "id": "vpxvq_OstYV0"
      },
      "source": [
        "### Organizing Data"
      ]
    },
    {
      "cell_type": "code",
      "metadata": {
        "id": "5AbQSe1qVHhG"
      },
      "source": [
        ""
      ],
      "execution_count": 121,
      "outputs": []
    },
    {
      "cell_type": "code",
      "metadata": {
        "id": "mUYTnlXoKOly"
      },
      "source": [
        "#Here i define the function:\r\n",
        "def getfilenames(path):\r\n",
        "  names=[]\r\n",
        "  for filename in os.listdir(path):                   #Get the filename of every file in the specified path\r\n",
        "    names.append(str(os.path.splitext(filename)[0]))  #Append the file name as a string in a list called \"names\"\r\n",
        "  return names"
      ],
      "execution_count": 213,
      "outputs": []
    },
    {
      "cell_type": "code",
      "metadata": {
        "id": "nQ4gtCoakmYZ"
      },
      "source": [
        "filespath=\"MyAppliedStatistics2020repository/Period_measurements/\" #Set the location of the path\r\n",
        "names=getfilenames(filespath)   #Use the newly created function and save all names of the files into \"names\"\r\n",
        "names.sort()                    #Sort the list of file names into alphebetical order for practicality\r\n",
        "#print(names)\r\n"
      ],
      "execution_count": 214,
      "outputs": []
    },
    {
      "cell_type": "code",
      "metadata": {
        "id": "NB_L-YYUh9TK"
      },
      "source": [
        "# Here we will nor create a variable for each of the timings data, and name them according to their original file name.\r\n",
        "for i in names:\r\n",
        "  globals()[i]=np.genfromtxt(\"MyAppliedStatistics2020repository/Period_measurements/\"+i+\".dat\", delimiter=\"\")\r\n",
        "\r\n",
        "#Now we have code to get all of the relevant variables, complicated, but fast and can be be generalized to any number of files in a directory."
      ],
      "execution_count": 215,
      "outputs": []
    },
    {
      "cell_type": "code",
      "metadata": {
        "colab": {
          "base_uri": "https://localhost:8080/"
        },
        "id": "wW_ZmoOwwUWY",
        "outputId": "094da63a-e69f-4ece-daa6-b551c8491e21"
      },
      "source": [
        "#Conviniently compact all of the variables into an array, so i can iterate in a function later\r\n",
        "data=np.array([eval(name) for name in names])\r\n",
        "print(data[1][:,1])"
      ],
      "execution_count": 216,
      "outputs": [
        {
          "output_type": "stream",
          "text": [
            "[ 37.8078  40.4982  43.2977  46.0056  48.5464  51.3801  54.0385  56.6569\n",
            "  59.4345  62.1876  64.7531  67.4444  70.2652  72.9033  75.5768  78.4426\n",
            "  81.0476  83.5963  86.4083  89.0287  91.6992  94.4398  97.1058  99.6825\n",
            " 102.4054 105.1373 107.8847 110.5187 113.2569 115.806  118.6779 121.2945\n",
            " 124.0446 126.5505 129.3223 132.0623 134.5229 137.3086 140.0717 142.732\n",
            " 145.4555 148.1908 150.853  153.5504 156.2839 158.9026 161.6612 164.4332\n",
            " 167.1787 169.7287]\n"
          ],
          "name": "stdout"
        }
      ]
    },
    {
      "cell_type": "markdown",
      "metadata": {
        "id": "NCSELxoykmE0"
      },
      "source": [
        "#Starting analysis"
      ]
    },
    {
      "cell_type": "markdown",
      "metadata": {
        "id": "9Y_BB1RVAfye"
      },
      "source": [
        "## Defining functions:"
      ]
    },
    {
      "cell_type": "code",
      "metadata": {
        "id": "Cy3CR2L1AgHg"
      },
      "source": [
        "def linearregression(x,y):\r\n",
        "  \"\"\"\r\n",
        "  Parameters: x and y are n by 1 arrays; in form y=m*x+c\r\n",
        "  Takes a set of x and y coordinates and fits a linear function.\r\n",
        "  Uses analytical method \r\n",
        "\r\n",
        "  Returns: (m,c)\r\n",
        "  \"\"\"\r\n",
        "  m=(np.mean(x*y)-np.mean(x)*np.mean(y))/(np.mean(x**2)-(np.mean(x))**2)\r\n",
        "  c=np.mean(y)-np.mean(x)*m\r\n",
        "\r\n",
        "  return m,c\r\n",
        "\r\n",
        "def line(x,m,c):\r\n",
        "  y=m*x+c\r\n",
        "  return y"
      ],
      "execution_count": 209,
      "outputs": []
    },
    {
      "cell_type": "code",
      "metadata": {
        "id": "RlFSRLxO3MzB"
      },
      "source": [
        "def linearfit(data):\r\n",
        "  x=data[:,0]\r\n",
        "  slope,intercept=linearregression(data[:,0],data[:,1])\r\n",
        "  y=line(x,slope,intercept)\r\n",
        "  fit=np.array([x,y])\r\n",
        "  return fit\r\n",
        "\r\n",
        "def timingerror(data):\r\n",
        "  fit=linearfit(data)\r\n",
        "  diff=data[:,1]-fit[1]\r\n",
        "  return diff\r\n"
      ],
      "execution_count": 208,
      "outputs": []
    },
    {
      "cell_type": "markdown",
      "metadata": {
        "id": "nNl436Rzu6vk"
      },
      "source": [
        "##Start"
      ]
    },
    {
      "cell_type": "markdown",
      "metadata": {
        "id": "_sJOCWUauZcR"
      },
      "source": [
        "With our data Organized and ready for analysis, and functions defines, we are ready to obtain results."
      ]
    },
    {
      "cell_type": "code",
      "metadata": {
        "id": "WsV9DduFEYol",
        "colab": {
          "base_uri": "https://localhost:8080/",
          "height": 265
        },
        "outputId": "d92bd8fd-124a-477f-f6d6-3ced726b73f0"
      },
      "source": [
        "#First we plot all of our data, to see if we can find any anomalies.\r\n",
        "for i in range(len(data)):\r\n",
        "  plt.scatter(data[i][:,0],data[i][:,1])"
      ],
      "execution_count": 219,
      "outputs": [
        {
          "output_type": "display_data",
          "data": {
            "image/png": "[encoded data removed]",
            "text/plain": [
              "<Figure size 432x288 with 1 Axes>"
            ]
          },
          "metadata": {
            "tags": [],
            "needs_background": "light"
          }
        }
      ]
    },
    {
      "cell_type": "markdown",
      "metadata": {
        "id": "jWub1e5xwe0i"
      },
      "source": [
        "As we can see from above plot, there are 2 anomalies, the red line is from daniels data, and the brown is from yiouli's data. Yioulis data can be explained by the fact that she measured in half periods, so i will take out those 2 datasets and analyse them seperately later in the program."
      ]
    },
    {
      "cell_type": "code",
      "metadata": {
        "id": "Er7-1vrc3HVP"
      },
      "source": [
        "#First we create a new dataset, with only straightforward data:\r\n",
        "index_position1=[0,1,2,4,6]\r\n",
        "data2names=[names[i] for i in index_position]\r\n",
        "data2=[data[i] for i in index_position1]"
      ],
      "execution_count": 229,
      "outputs": []
    },
    {
      "cell_type": "code",
      "metadata": {
        "colab": {
          "base_uri": "https://localhost:8080/",
          "height": 283
        },
        "id": "hyChWZbjxNvm",
        "outputId": "9839a6f6-ee7d-4033-976f-6892a7094459"
      },
      "source": [
        "#we plot the new dataset to see if we got all the correct ones\r\n",
        "for i in range(len(data2)):\r\n",
        "  plt.scatter(data2[i][:,0],data2[i][:,1])\r\n",
        "#yes we did\r\n",
        "print(data2names)"
      ],
      "execution_count": 230,
      "outputs": [
        {
          "output_type": "stream",
          "text": [
            "['LiamOther', 'Liam_Full_Pendulum_Period_timings', 'SvendFullPeriod', 'jiamei_1T', 'yiouli_period']\n"
          ],
          "name": "stdout"
        },
        {
          "output_type": "display_data",
          "data": {
            "image/png": "[encoded data removed]",
            "text/plain": [
              "<Figure size 432x288 with 1 Axes>"
            ]
          },
          "metadata": {
            "tags": [],
            "needs_background": "light"
          }
        }
      ]
    },
    {
      "cell_type": "code",
      "metadata": {
        "colab": {
          "base_uri": "https://localhost:8080/"
        },
        "id": "_nxHk8XL5rxT",
        "outputId": "0ce6953a-8823-4a62-9e43-2ebb6e48a68e"
      },
      "source": [
        "#Now we can finally get the uncertainties, or how accurate heach person was in timing the pendulum!\r\n",
        "for i in range(len(data2)):\r\n",
        "  globals()[data2names[i]+\"_sigma\"]=np.std(timingerror(data2[i]))\r\n",
        "  print(data2names[i]+\"_sigma = \",globals()[data2names[i]+\"_sigma\"])\r\n"
      ],
      "execution_count": 279,
      "outputs": [
        {
          "output_type": "stream",
          "text": [
            "LiamOther_sigma =  0.18281717612231788\n",
            "Liam_Full_Pendulum_Period_timings_sigma =  0.07502082067922994\n",
            "SvendFullPeriod_sigma =  0.034004680035367225\n",
            "jiamei_1T_sigma =  0.28291912428108335\n",
            "yiouli_period_sigma =  0.32133784938309623\n"
          ],
          "name": "stdout"
        }
      ]
    },
    {
      "cell_type": "code",
      "metadata": {
        "id": "epV5IQi-pUDq"
      },
      "source": [
        "#And here we make some histograms to see how each persons timing accuracy is distribuited\r\n",
        "for i in range(len(data2)):\r\n",
        "  plt.figure(i)\r\n",
        "  plt.title(\"Histogram of timings differences from fit for \" + data2names[i])\r\n",
        "  plt.hist(timingerror(data2[i]))\r\n",
        "  plt.savefig(\"Histogram of timings differences from fit for \" + data2names[i])"
      ],
      "execution_count": null,
      "outputs": []
    },
    {
      "cell_type": "code",
      "metadata": {
        "id": "AekjDSyuqYNP"
      },
      "source": [
        "#Now we have the uncertainty of the timings, we can finally calculate the uncertainty on the period:\r\n",
        "#This we will also do analytically by using the formula in barlow chapter 6:\r\n",
        "def uncertainty_slope(data,sigma_time_data):\r\n",
        "  variance_m=sigma_time_data**2/(len(data[:,0])*(np.mean(data[:,0]**2)-np.mean(data[:,0])**2))\r\n",
        "  return np.sqrt(variance_m)"
      ],
      "execution_count": 269,
      "outputs": []
    },
    {
      "cell_type": "code",
      "metadata": {
        "id": "N7A7mG_0lhCz"
      },
      "source": [
        "#and now we will assign the uncertainty on the period to new variables\r\n",
        "for i in range(len(data2)):\r\n",
        "  globals()[data2names[i]+\"_perioduncertainty\"]=uncertainty_slope(data2[i],globals()[data2names[i]+\"_sigma\"])"
      ],
      "execution_count": 276,
      "outputs": []
    },
    {
      "cell_type": "code",
      "metadata": {
        "colab": {
          "base_uri": "https://localhost:8080/"
        },
        "id": "pnnyWGQL4eXy",
        "outputId": "a15199e0-2ddb-4b00-95ed-60b24faa2d70"
      },
      "source": [
        "#And here i will print out the uncertainty of the period\r\n",
        "for i in range(len(data2)):\r\n",
        "  print(data2names[i]+\"_perioduncertainty = \",globals()[data2names[i]+\"_perioduncertainty\"])"
      ],
      "execution_count": 280,
      "outputs": [
        {
          "output_type": "stream",
          "text": [
            "LiamOther_perioduncertainty =  0.004780453069064758\n",
            "Liam_Full_Pendulum_Period_timings_perioduncertainty =  0.0007351979772981602\n",
            "SvendFullPeriod_perioduncertainty =  0.0009431201344097166\n",
            "jiamei_1T_perioduncertainty =  0.00568115272846836\n",
            "yiouli_period_perioduncertainty =  0.008402604945950498\n"
          ],
          "name": "stdout"
        }
      ]
    },
    {
      "cell_type": "code",
      "metadata": {
        "colab": {
          "base_uri": "https://localhost:8080/"
        },
        "id": "-PoDXatR4h7D",
        "outputId": "806dcf61-4286-4d94-ce94-7aaa2021e73b"
      },
      "source": [
        "#Now we find the period from the fit, also analytically:\r\n",
        "for i in range(len(data2)):\r\n",
        "  globals()[data2names[i]+\"_period\"],_=linearregression(data2[i][:,0],data2[i][:,1])\r\n",
        "  print(data2names[i]+\"_period =\",globals()[data2names[i]+\"_period\"], \"seconds\")\r\n"
      ],
      "execution_count": 292,
      "outputs": [
        {
          "output_type": "stream",
          "text": [
            "LiamOther_period = 2.683996136752133 seconds\n",
            "Liam_Full_Pendulum_Period_timings_period = 2.6899834429771916 seconds\n",
            "SvendFullPeriod_period = 2.6953856153846165 seconds\n",
            "jiamei_1T_period = 2.713344274193548 seconds\n",
            "yiouli_period_period = 2.7180231794871763 seconds\n"
          ],
          "name": "stdout"
        }
      ]
    },
    {
      "cell_type": "code",
      "metadata": {
        "colab": {
          "base_uri": "https://localhost:8080/"
        },
        "id": "4oIB6RJ27If8",
        "outputId": "34f7840c-35a0-4962-bbfd-a7841f0ae3a5"
      },
      "source": [
        "linearregression(data2[i][:,0],data2[i][:,1])"
      ],
      "execution_count": 288,
      "outputs": [
        {
          "output_type": "execute_result",
          "data": {
            "text/plain": [
              "(2.7180231794871763, 13.91961784615389)"
            ]
          },
          "metadata": {
            "tags": []
          },
          "execution_count": 288
        }
      ]
    },
    {
      "cell_type": "markdown",
      "metadata": {
        "id": "2pVEwB45_vo6"
      },
      "source": [
        "# Miscelenious"
      ]
    },
    {
      "cell_type": "markdown",
      "metadata": {
        "id": "hiKpOxgDZHau"
      },
      "source": [
        "##Finding daniels error"
      ]
    },
    {
      "cell_type": "markdown",
      "metadata": {
        "id": "lm7VpLpUaXgM"
      },
      "source": [
        "*Because daniels data had a sudden jump in the middle, i needed to analyse his data seperate from the others.*"
      ]
    },
    {
      "cell_type": "code",
      "metadata": {
        "colab": {
          "base_uri": "https://localhost:8080/",
          "height": 283
        },
        "id": "qOehdEn5aaLr",
        "outputId": "f1c7f44f-b56d-45e8-effa-d5d5969fae6d"
      },
      "source": [
        "#As you can see here in the plot, including this data as 1 data set would obviously give us erronious results\r\n",
        "#Therefore it must be split into 2 parts. \r\n",
        "#The intention of the pause was to show that the pendulum slows down over time.\r\n",
        "#But we do not know how many time the pendulum have swung during the pause\r\n",
        "\r\n",
        "plt.scatter(daniel_full[:,0],daniel_full[:,1])"
      ],
      "execution_count": 130,
      "outputs": [
        {
          "output_type": "execute_result",
          "data": {
            "text/plain": [
              "<matplotlib.collections.PathCollection at 0x7f31bcab4f98>"
            ]
          },
          "metadata": {
            "tags": []
          },
          "execution_count": 130
        },
        {
          "output_type": "display_data",
          "data": {
            "image/png": "[encoded data removed]",
            "text/plain": [
              "<Figure size 432x288 with 1 Axes>"
            ]
          },
          "metadata": {
            "tags": [],
            "needs_background": "light"
          }
        }
      ]
    },
    {
      "cell_type": "code",
      "metadata": {
        "id": "MNg9sfOS_zsk"
      },
      "source": [
        "#First we split daniels dataset into 2 parts, because his graph makes a sudden jump\r\n",
        "d1=29\r\n",
        "daniel1=daniel_full[:d1,:]\r\n",
        "daniel2=daniel_full[d1:,:]"
      ],
      "execution_count": 125,
      "outputs": []
    },
    {
      "cell_type": "code",
      "metadata": {
        "colab": {
          "base_uri": "https://localhost:8080/"
        },
        "id": "NUc0iFezTzbu",
        "outputId": "063690a8-559e-4953-cd45-40caa2627e43"
      },
      "source": [
        "#Here i find the slope and intercept of daniel 1 and daniel 2 and daniel_full\r\n",
        "\r\n",
        "d1m,d1c=linearregression(daniel1[:,0],daniel1[:,1])\r\n",
        "d2m,d2c=linearregression(daniel1[:,0],daniel1[:,1])\r\n",
        "dm,dc=linearregression(daniel1[:,0],daniel1[:,1])\r\n",
        "\r\n",
        "#lets print the slopes of d1 and d2 to see how much they differ.\r\n",
        "print(d1m,d2m)"
      ],
      "execution_count": 132,
      "outputs": [
        {
          "output_type": "stream",
          "text": [
            "2.651354137931035 2.651354137931035\n"
          ],
          "name": "stdout"
        }
      ]
    },
    {
      "cell_type": "code",
      "metadata": {
        "colab": {
          "base_uri": "https://localhost:8080/"
        },
        "id": "uzGtoQPcVWr0",
        "outputId": "4f702288-ec14-4152-c346-b4a648f85cb2"
      },
      "source": [
        "np.std(timingerror(daniel1))"
      ],
      "execution_count": 263,
      "outputs": [
        {
          "output_type": "execute_result",
          "data": {
            "text/plain": [
              "0.6090611467040846"
            ]
          },
          "metadata": {
            "tags": []
          },
          "execution_count": 263
        }
      ]
    },
    {
      "cell_type": "code",
      "metadata": {
        "colab": {
          "base_uri": "https://localhost:8080/"
        },
        "id": "ettk4tSIAN92",
        "outputId": "5a06240f-14f0-459f-d1a3-c511c30eda85"
      },
      "source": [
        "np.std(timingerror(daniel2))"
      ],
      "execution_count": 264,
      "outputs": [
        {
          "output_type": "execute_result",
          "data": {
            "text/plain": [
              "0.03536001851613665"
            ]
          },
          "metadata": {
            "tags": []
          },
          "execution_count": 264
        }
      ]
    },
    {
      "cell_type": "code",
      "metadata": {
        "colab": {
          "base_uri": "https://localhost:8080/"
        },
        "id": "m45NCa00ASXR",
        "outputId": "3f03edb0-d65e-46b8-abbf-c78cff85831e"
      },
      "source": [
        "np.std(timingerror(daniel_full))"
      ],
      "execution_count": 265,
      "outputs": [
        {
          "output_type": "execute_result",
          "data": {
            "text/plain": [
              "4.8329056873481795"
            ]
          },
          "metadata": {
            "tags": []
          },
          "execution_count": 265
        }
      ]
    },
    {
      "cell_type": "code",
      "metadata": {
        "colab": {
          "base_uri": "https://localhost:8080/"
        },
        "id": "6BY2W5obAXdQ",
        "outputId": "c4a35947-eba7-4b9e-a619-9fbc00390bbb"
      },
      "source": [
        "np.std(timingerror(yiouli_halfperiod))"
      ],
      "execution_count": 266,
      "outputs": [
        {
          "output_type": "execute_result",
          "data": {
            "text/plain": [
              "0.060539057406705336"
            ]
          },
          "metadata": {
            "tags": []
          },
          "execution_count": 266
        }
      ]
    },
    {
      "cell_type": "code",
      "metadata": {
        "colab": {
          "base_uri": "https://localhost:8080/"
        },
        "id": "Lb8ZhvRHTecB",
        "outputId": "d45e9f04-3671-4c30-cc4d-cc914d126b49"
      },
      "source": [
        "uncertainty_slope(yiouli_halfperiod,0.060539057406705336)"
      ],
      "execution_count": 281,
      "outputs": [
        {
          "output_type": "execute_result",
          "data": {
            "text/plain": [
              "0.0016790513511394931"
            ]
          },
          "metadata": {
            "tags": []
          },
          "execution_count": 281
        }
      ]
    },
    {
      "cell_type": "code",
      "metadata": {
        "colab": {
          "base_uri": "https://localhost:8080/"
        },
        "id": "E6GxHb7_TgYP",
        "outputId": "a9b759a3-3bb0-40dc-e299-6bca4eabdede"
      },
      "source": [
        "uncertainty_slope(daniel_full,4.8329056873481795)"
      ],
      "execution_count": 282,
      "outputs": [
        {
          "output_type": "execute_result",
          "data": {
            "text/plain": [
              "0.03790718307203638"
            ]
          },
          "metadata": {
            "tags": []
          },
          "execution_count": 282
        }
      ]
    },
    {
      "cell_type": "code",
      "metadata": {
        "colab": {
          "base_uri": "https://localhost:8080/"
        },
        "id": "Tdzw3hMHKwdm",
        "outputId": "492da7fd-59a9-40bd-d193-e964303d5ced"
      },
      "source": [
        "uncertainty_slope(daniel1,0.6090611467040846)"
      ],
      "execution_count": 283,
      "outputs": [
        {
          "output_type": "execute_result",
          "data": {
            "text/plain": [
              "0.013518013532478912"
            ]
          },
          "metadata": {
            "tags": []
          },
          "execution_count": 283
        }
      ]
    },
    {
      "cell_type": "code",
      "metadata": {
        "colab": {
          "base_uri": "https://localhost:8080/"
        },
        "id": "-mZwTulxLE-C",
        "outputId": "26a3cf47-d741-4b77-ad28-05cc9e4fa018"
      },
      "source": [
        "uncertainty_slope(daniel2,0.03536001851613665)"
      ],
      "execution_count": 284,
      "outputs": [
        {
          "output_type": "execute_result",
          "data": {
            "text/plain": [
              "0.0007848098855041191"
            ]
          },
          "metadata": {
            "tags": []
          },
          "execution_count": 284
        }
      ]
    },
    {
      "cell_type": "code",
      "metadata": {
        "colab": {
          "base_uri": "https://localhost:8080/",
          "height": 131
        },
        "id": "lk4KjQRwLXFz",
        "outputId": "42fe156a-619a-4e87-d5b1-4f1f9e3b532a"
      },
      "source": [
        "for i in range(len(data2)):\r\n",
        "  global()[data2names[i]+\"_period\"],_=linearregression(data2[i])\r\n",
        "  print(global()[data2names[i]+\"_period\"])\r\n"
      ],
      "execution_count": 286,
      "outputs": [
        {
          "output_type": "error",
          "ename": "SyntaxError",
          "evalue": "ignored",
          "traceback": [
            "\u001b[0;36m  File \u001b[0;32m\"<ipython-input-286-6a73939b41bd>\"\u001b[0;36m, line \u001b[0;32m2\u001b[0m\n\u001b[0;31m    global()[data2names[i]+\"_period\"],_=linearregression(data2[i])\u001b[0m\n\u001b[0m          ^\u001b[0m\n\u001b[0;31mSyntaxError\u001b[0m\u001b[0;31m:\u001b[0m invalid syntax\n"
          ]
        }
      ]
    },
    {
      "cell_type": "code",
      "metadata": {
        "colab": {
          "base_uri": "https://localhost:8080/"
        },
        "id": "-ZsnFReSNiTk",
        "outputId": "894109d4-ac78-443d-a5d1-44bcb8b8b0f8"
      },
      "source": [
        "linearregression(daniel1[:,0],daniel1[:,1])"
      ],
      "execution_count": 293,
      "outputs": [
        {
          "output_type": "execute_result",
          "data": {
            "text/plain": [
              "(2.651354137931035, -0.7922810344827624)"
            ]
          },
          "metadata": {
            "tags": []
          },
          "execution_count": 293
        }
      ]
    },
    {
      "cell_type": "code",
      "metadata": {
        "colab": {
          "base_uri": "https://localhost:8080/"
        },
        "id": "TjDmkJ2jNwG4",
        "outputId": "35cae88a-2f5d-4679-8b27-cadeb1e986cb"
      },
      "source": [
        "linearregression(daniel2[:,0],daniel2[:,1])"
      ],
      "execution_count": 294,
      "outputs": [
        {
          "output_type": "execute_result",
          "data": {
            "text/plain": [
              "(2.6880100492611096, 17.37964059113186)"
            ]
          },
          "metadata": {
            "tags": []
          },
          "execution_count": 294
        }
      ]
    },
    {
      "cell_type": "code",
      "metadata": {
        "colab": {
          "base_uri": "https://localhost:8080/"
        },
        "id": "K7tzoPbLNwLl",
        "outputId": "53e309a6-877c-470f-d35f-fa2f55b2d00e"
      },
      "source": [
        "linearregression(yiouli_halfperiod[:,0],yiouli_halfperiod[:,1])"
      ],
      "execution_count": 295,
      "outputs": [
        {
          "output_type": "execute_result",
          "data": {
            "text/plain": [
              "(1.3470979230769227, 64.595179)"
            ]
          },
          "metadata": {
            "tags": []
          },
          "execution_count": 295
        }
      ]
    }
  ]
}