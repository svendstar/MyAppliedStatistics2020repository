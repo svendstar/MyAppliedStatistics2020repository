{
  "nbformat": 4,
  "nbformat_minor": 0,
  "metadata": {
    "colab": {
      "name": "Measurement of each persons pendulum.ipynb",
      "provenance": [],
      "collapsed_sections": [],
      "authorship_tag": "ABX9TyP2eJiBksyl6czb82PUpTqy",
      "include_colab_link": true
    },
    "kernelspec": {
      "name": "python3",
      "display_name": "Python 3"
    }
  },
  "cells": [
    {
      "cell_type": "markdown",
      "metadata": {
        "id": "view-in-github",
        "colab_type": "text"
      },
      "source": [
        "<a href=\"https://colab.research.google.com/github/svendstar/MyAppliedStatistics2020repository/blob/main/Measurement_of_each_persons_pendulum.ipynb\" target=\"_parent\"><img src=\"https://colab.research.google.com/assets/colab-badge.svg\" alt=\"Open In Colab\"/></a>"
      ]
    },
    {
      "cell_type": "markdown",
      "metadata": {
        "id": "dQwMBt21DIyh"
      },
      "source": [
        "Measuring Error on each persons measuring time: Pendulum."
      ]
    },
    {
      "cell_type": "code",
      "metadata": {
        "id": "f7mpxxxIDyyp"
      },
      "source": [
        "import numpy as np\r\n",
        "import matplotlib.pyplot as plt\r\n"
      ],
      "execution_count": 3,
      "outputs": []
    },
    {
      "cell_type": "code",
      "metadata": {
        "colab": {
          "base_uri": "https://localhost:8080/"
        },
        "id": "BakoigO7DBnD",
        "outputId": "3382eff3-b974-46a3-c900-911374a0dbfe"
      },
      "source": [
        "!git clone https://github.com/svendstar/MyAppliedStatistics2020repository"
      ],
      "execution_count": 2,
      "outputs": [
        {
          "output_type": "stream",
          "text": [
            "Cloning into 'MyAppliedStatistics2020repository'...\n",
            "remote: Enumerating objects: 22, done.\u001b[K\n",
            "remote: Counting objects: 100% (22/22), done.\u001b[K\n",
            "remote: Compressing objects: 100% (21/21), done.\u001b[K\n",
            "remote: Total 22 (delta 3), reused 0 (delta 0), pack-reused 0\u001b[K\n",
            "Unpacking objects: 100% (22/22), done.\n"
          ],
          "name": "stdout"
        }
      ]
    },
    {
      "cell_type": "markdown",
      "metadata": {
        "id": "UTh7mFsjDIFp"
      },
      "source": [
        ""
      ]
    },
    {
      "cell_type": "code",
      "metadata": {
        "id": "eCMDETOUDYxL"
      },
      "source": [
        "Liam_fullperiod=np.genfromtxt(\"MyAppliedStatistics2020repository/Period_measurements/Liam_Full_Pendulum_Period_timings.dat\", delimiter=\"\")"
      ],
      "execution_count": 19,
      "outputs": []
    },
    {
      "cell_type": "code",
      "metadata": {
        "id": "WsV9DduFEYol"
      },
      "source": [
        "x=Liam_fullperiod[:,1]"
      ],
      "execution_count": 36,
      "outputs": []
    },
    {
      "cell_type": "code",
      "metadata": {
        "colab": {
          "base_uri": "https://localhost:8080/"
        },
        "id": "HpkgE6cbFrvu",
        "outputId": "855c5120-1fc3-479f-bc1a-9b13a284f3bf"
      },
      "source": [
        "x"
      ],
      "execution_count": 37,
      "outputs": [
        {
          "output_type": "execute_result",
          "data": {
            "text/plain": [
              "array([ 37.8078,  40.4982,  43.2977,  46.0056,  48.5464,  51.3801,\n",
              "        54.0385,  56.6569,  59.4345,  62.1876,  64.7531,  67.4444,\n",
              "        70.2652,  72.9033,  75.5768,  78.4426,  81.0476,  83.5963,\n",
              "        86.4083,  89.0287,  91.6992,  94.4398,  97.1058,  99.6825,\n",
              "       102.4054, 105.1373, 107.8847, 110.5187, 113.2569, 115.806 ,\n",
              "       118.6779, 121.2945, 124.0446, 126.5505, 129.3223, 132.0623,\n",
              "       134.5229, 137.3086, 140.0717, 142.732 , 145.4555, 148.1908,\n",
              "       150.853 , 153.5504, 156.2839, 158.9026, 161.6612, 164.4332,\n",
              "       167.1787, 169.7287])"
            ]
          },
          "metadata": {
            "tags": []
          },
          "execution_count": 37
        }
      ]
    },
    {
      "cell_type": "code",
      "metadata": {
        "id": "LwiIKP8_G8Mn"
      },
      "source": [
        ""
      ],
      "execution_count": null,
      "outputs": []
    }
  ]
}