{
  "nbformat": 4,
  "nbformat_minor": 0,
  "metadata": {
    "colab": {
      "name": "Measurement of each persons pendulum.ipynb",
      "provenance": [],
      "collapsed_sections": [],
      "authorship_tag": "ABX9TyOGwjyz26Vg5Wmj3Ouy6N55",
      "include_colab_link": true
    },
    "kernelspec": {
      "name": "python3",
      "display_name": "Python 3"
    }
  },
  "cells": [
    {
      "cell_type": "markdown",
      "metadata": {
        "id": "view-in-github",
        "colab_type": "text"
      },
      "source": [
        "<a href=\"https://colab.research.google.com/github/svendstar/MyAppliedStatistics2020repository/blob/main/Measurement_of_each_persons_pendulum.ipynb\" target=\"_parent\"><img src=\"https://colab.research.google.com/assets/colab-badge.svg\" alt=\"Open In Colab\"/></a>"
      ]
    },
    {
      "cell_type": "code",
      "metadata": {
        "colab": {
          "base_uri": "https://localhost:8080/"
        },
        "id": "0jMY7RRDMLMp",
        "outputId": "4d5843c9-71f7-4211-9d1a-92fe870361f9"
      },
      "source": [
        "!pip install iminuit"
      ],
      "execution_count": 1,
      "outputs": [
        {
          "output_type": "stream",
          "text": [
            "Collecting iminuit\n",
            "\u001b[?25l  Downloading https://files.pythonhosted.org/packages/98/a9/116d17ddf18855a81488f1930bcf4a2ce9a8b5255f310bceb71f0a838b53/iminuit-2.0.0-cp36-cp36m-manylinux2010_x86_64.whl (283kB)\n",
            "\r\u001b[K     |█▏                              | 10kB 14.3MB/s eta 0:00:01\r\u001b[K     |██▎                             | 20kB 19.1MB/s eta 0:00:01\r\u001b[K     |███▌                            | 30kB 18.5MB/s eta 0:00:01\r\u001b[K     |████▋                           | 40kB 12.6MB/s eta 0:00:01\r\u001b[K     |█████▊                          | 51kB 7.7MB/s eta 0:00:01\r\u001b[K     |███████                         | 61kB 8.0MB/s eta 0:00:01\r\u001b[K     |████████                        | 71kB 7.5MB/s eta 0:00:01\r\u001b[K     |█████████▎                      | 81kB 8.3MB/s eta 0:00:01\r\u001b[K     |██████████▍                     | 92kB 8.6MB/s eta 0:00:01\r\u001b[K     |███████████▌                    | 102kB 9.1MB/s eta 0:00:01\r\u001b[K     |████████████▊                   | 112kB 9.1MB/s eta 0:00:01\r\u001b[K     |█████████████▉                  | 122kB 9.1MB/s eta 0:00:01\r\u001b[K     |███████████████                 | 133kB 9.1MB/s eta 0:00:01\r\u001b[K     |████████████████▏               | 143kB 9.1MB/s eta 0:00:01\r\u001b[K     |█████████████████▎              | 153kB 9.1MB/s eta 0:00:01\r\u001b[K     |██████████████████▌             | 163kB 9.1MB/s eta 0:00:01\r\u001b[K     |███████████████████▋            | 174kB 9.1MB/s eta 0:00:01\r\u001b[K     |████████████████████▉           | 184kB 9.1MB/s eta 0:00:01\r\u001b[K     |██████████████████████          | 194kB 9.1MB/s eta 0:00:01\r\u001b[K     |███████████████████████         | 204kB 9.1MB/s eta 0:00:01\r\u001b[K     |████████████████████████▎       | 215kB 9.1MB/s eta 0:00:01\r\u001b[K     |█████████████████████████▍      | 225kB 9.1MB/s eta 0:00:01\r\u001b[K     |██████████████████████████▋     | 235kB 9.1MB/s eta 0:00:01\r\u001b[K     |███████████████████████████▊    | 245kB 9.1MB/s eta 0:00:01\r\u001b[K     |████████████████████████████▉   | 256kB 9.1MB/s eta 0:00:01\r\u001b[K     |██████████████████████████████  | 266kB 9.1MB/s eta 0:00:01\r\u001b[K     |███████████████████████████████▏| 276kB 9.1MB/s eta 0:00:01\r\u001b[K     |████████████████████████████████| 286kB 9.1MB/s \n",
            "\u001b[?25hRequirement already satisfied: numpy in /usr/local/lib/python3.6/dist-packages (from iminuit) (1.18.5)\n",
            "Installing collected packages: iminuit\n",
            "Successfully installed iminuit-2.0.0\n"
          ],
          "name": "stdout"
        }
      ]
    },
    {
      "cell_type": "markdown",
      "metadata": {
        "id": "dQwMBt21DIyh"
      },
      "source": [
        "### ***Measuring Error on each persons uncertainty in  measuring time: Pendulum.***"
      ]
    },
    {
      "cell_type": "code",
      "metadata": {
        "id": "f7mpxxxIDyyp"
      },
      "source": [
        "import numpy as np\r\n",
        "import matplotlib.pyplot as plt\r\n",
        "from iminuit import Minuit\r\n",
        "import os"
      ],
      "execution_count": 112,
      "outputs": []
    },
    {
      "cell_type": "code",
      "metadata": {
        "id": "BakoigO7DBnD",
        "colab": {
          "base_uri": "https://localhost:8080/"
        },
        "outputId": "f1e89184-49aa-4e0c-eb70-edc3493cc099"
      },
      "source": [
        "!git clone https://github.com/svendstar/MyAppliedStatistics2020repository #Clones my repository (Where i have stored all of the timing files) into Google Colab environment"
      ],
      "execution_count": 113,
      "outputs": [
        {
          "output_type": "stream",
          "text": [
            "fatal: destination path 'MyAppliedStatistics2020repository' already exists and is not an empty directory.\n"
          ],
          "name": "stdout"
        }
      ]
    },
    {
      "cell_type": "markdown",
      "metadata": {
        "id": "GIrdEoc0J6Qr"
      },
      "source": [
        "**I will now create a function that loads each .dat file in a given directory, and saves them under a variable of the same name as a file**"
      ]
    },
    {
      "cell_type": "code",
      "metadata": {
        "id": "mUYTnlXoKOly"
      },
      "source": [
        "#Here i define the function:\r\n",
        "def getfilenames(path):\r\n",
        "  names=[]\r\n",
        "  for filename in os.listdir(path):                   #Get the filename of every file in the specified path\r\n",
        "    names.append(str(os.path.splitext(filename)[0]))  #Append the file name as a string in a list called \"names\"\r\n",
        "  return names"
      ],
      "execution_count": 51,
      "outputs": []
    },
    {
      "cell_type": "code",
      "metadata": {
        "id": "nQ4gtCoakmYZ"
      },
      "source": [
        "filespath=\"MyAppliedStatistics2020repository/Period_measurements/\" #Set the location of the path\r\n",
        "names=getfilenames(filespath)   #Use the newly created function and save all names of the files into \"names\"\r\n",
        "names.sort()                    #Sort the list of file names into alphebetical order for practicality\r\n",
        "#print(names)\r\n"
      ],
      "execution_count": 52,
      "outputs": []
    },
    {
      "cell_type": "code",
      "metadata": {
        "id": "NB_L-YYUh9TK"
      },
      "source": [
        "# Here we will nor create a variable for each of the timings data, and name them according to their original file name.\r\n",
        "for i in names:\r\n",
        "  globals()[i]=np.genfromtxt(\"MyAppliedStatistics2020repository/Period_measurements/\"+i+\".dat\", delimiter=\"\")\r\n",
        "\r\n",
        "#Now we have code to get all of the relevant variables, complicated, but fast and can be be generalized to any number of files in a directory."
      ],
      "execution_count": 48,
      "outputs": []
    },
    {
      "cell_type": "code",
      "metadata": {
        "colab": {
          "base_uri": "https://localhost:8080/"
        },
        "id": "wW_ZmoOwwUWY",
        "outputId": "f53546c2-5f78-4d36-b566-3d2bf152f662"
      },
      "source": [
        "#Conviniently compact all of the variables into an array, so i can iterate in a function later\r\n",
        "data=np.array([eval(name) for name in names])\r\n",
        "print(data[1][:,1])"
      ],
      "execution_count": 82,
      "outputs": [
        {
          "output_type": "stream",
          "text": [
            "[ 37.8078  40.4982  43.2977  46.0056  48.5464  51.3801  54.0385  56.6569\n",
            "  59.4345  62.1876  64.7531  67.4444  70.2652  72.9033  75.5768  78.4426\n",
            "  81.0476  83.5963  86.4083  89.0287  91.6992  94.4398  97.1058  99.6825\n",
            " 102.4054 105.1373 107.8847 110.5187 113.2569 115.806  118.6779 121.2945\n",
            " 124.0446 126.5505 129.3223 132.0623 134.5229 137.3086 140.0717 142.732\n",
            " 145.4555 148.1908 150.853  153.5504 156.2839 158.9026 161.6612 164.4332\n",
            " 167.1787 169.7287]\n"
          ],
          "name": "stdout"
        }
      ]
    },
    {
      "cell_type": "markdown",
      "metadata": {
        "id": "NCSELxoykmE0"
      },
      "source": [
        ""
      ]
    },
    {
      "cell_type": "code",
      "metadata": {
        "id": "WsV9DduFEYol",
        "colab": {
          "base_uri": "https://localhost:8080/",
          "height": 282
        },
        "outputId": "d5e32b7a-5653-4de6-c8b0-7421ece19c06"
      },
      "source": [
        "plt.scatter(LiamOther[:,0],LiamOther[:,1])\r\n",
        "plt.scatter(Liam_Full_Pendulum_Period_timings[:,0],Liam_Full_Pendulum_Period_timings[:,1])"
      ],
      "execution_count": 62,
      "outputs": [
        {
          "output_type": "execute_result",
          "data": {
            "text/plain": [
              "<matplotlib.collections.PathCollection at 0x7f31bd2f5fd0>"
            ]
          },
          "metadata": {
            "tags": []
          },
          "execution_count": 62
        },
        {
          "output_type": "display_data",
          "data": {
            "image/png": "[encoded data removed]",
            "text/plain": [
              "<Figure size 432x288 with 1 Axes>"
            ]
          },
          "metadata": {
            "tags": [],
            "needs_background": "light"
          }
        }
      ]
    },
    {
      "cell_type": "code",
      "metadata": {
        "colab": {
          "base_uri": "https://localhost:8080/",
          "height": 282
        },
        "id": "Er7-1vrc3HVP",
        "outputId": "064b3ad5-6c65-4ef7-dd73-d8312a435b01"
      },
      "source": [
        "plt.scatter(Liam_Full_Pendulum_Period_timings[:,0],Liam_Full_Pendulum_Period_timings[:,1])"
      ],
      "execution_count": 61,
      "outputs": [
        {
          "output_type": "execute_result",
          "data": {
            "text/plain": [
              "<matplotlib.collections.PathCollection at 0x7f31bd39e1d0>"
            ]
          },
          "metadata": {
            "tags": []
          },
          "execution_count": 61
        },
        {
          "output_type": "display_data",
          "data": {
            "image/png": "[encoded data removed]",
            "text/plain": [
              "<Figure size 432x288 with 1 Axes>"
            ]
          },
          "metadata": {
            "tags": [],
            "needs_background": "light"
          }
        }
      ]
    },
    {
      "cell_type": "code",
      "metadata": {
        "id": "RlFSRLxO3MzB"
      },
      "source": [
        "def uncertainty(data):\r\n",
        "  return plt.scatter(data[:,0],data[:,1])\r\n"
      ],
      "execution_count": 64,
      "outputs": []
    },
    {
      "cell_type": "code",
      "metadata": {
        "colab": {
          "base_uri": "https://localhost:8080/",
          "height": 1000
        },
        "id": "pnnyWGQL4eXy",
        "outputId": "b1a2aeee-b5d5-478e-8492-81d85687ff55"
      },
      "source": [
        "for i in range(len(data)):\r\n",
        "  plt.figure(i)\r\n",
        "  uncertainty(data[i])"
      ],
      "execution_count": 87,
      "outputs": [
        {
          "output_type": "display_data",
          "data": {
            "image/png": "[encoded data removed]",
            "text/plain": [
              "<Figure size 432x288 with 1 Axes>"
            ]
          },
          "metadata": {
            "tags": [],
            "needs_background": "light"
          }
        },
        {
          "output_type": "display_data",
          "data": {
            "image/png": "[encoded data removed]",
            "text/plain": [
              "<Figure size 432x288 with 1 Axes>"
            ]
          },
          "metadata": {
            "tags": [],
            "needs_background": "light"
          }
        },
        {
          "output_type": "display_data",
          "data": {
            "image/png": "[encoded data removed]",
            "text/plain": [
              "<Figure size 432x288 with 1 Axes>"
            ]
          },
          "metadata": {
            "tags": [],
            "needs_background": "light"
          }
        },
        {
          "output_type": "display_data",
          "data": {
            "image/png": "[encoded data removed]",
            "text/plain": [
              "<Figure size 432x288 with 1 Axes>"
            ]
          },
          "metadata": {
            "tags": [],
            "needs_background": "light"
          }
        },
        {
          "output_type": "display_data",
          "data": {
            "image/png": "[encoded data removed]",
            "text/plain": [
              "<Figure size 432x288 with 1 Axes>"
            ]
          },
          "metadata": {
            "tags": [],
            "needs_background": "light"
          }
        },
        {
          "output_type": "display_data",
          "data": {
            "image/png": "[encoded data removed]",
            "text/plain": [
              "<Figure size 432x288 with 1 Axes>"
            ]
          },
          "metadata": {
            "tags": [],
            "needs_background": "light"
          }
        },
        {
          "output_type": "display_data",
          "data": {
            "image/png": "[encoded data removed]",
            "text/plain": [
              "<Figure size 432x288 with 1 Axes>"
            ]
          },
          "metadata": {
            "tags": [],
            "needs_background": "light"
          }
        }
      ]
    },
    {
      "cell_type": "code",
      "metadata": {
        "colab": {
          "base_uri": "https://localhost:8080/",
          "height": 282
        },
        "id": "-PoDXatR4h7D",
        "outputId": "2304d82c-c809-42f2-acf9-b469b163f5d2"
      },
      "source": [
        "uncertainty(data[3])"
      ],
      "execution_count": 89,
      "outputs": [
        {
          "output_type": "execute_result",
          "data": {
            "text/plain": [
              "<matplotlib.collections.PathCollection at 0x7f31bcf0b4e0>"
            ]
          },
          "metadata": {
            "tags": []
          },
          "execution_count": 89
        },
        {
          "output_type": "display_data",
          "data": {
            "image/png": "[encoded data removed]",
            "text/plain": [
              "<Figure size 432x288 with 1 Axes>"
            ]
          },
          "metadata": {
            "tags": [],
            "needs_background": "light"
          }
        }
      ]
    },
    {
      "cell_type": "code",
      "metadata": {
        "id": "4oIB6RJ27If8"
      },
      "source": [
        ""
      ],
      "execution_count": null,
      "outputs": []
    },
    {
      "cell_type": "markdown",
      "metadata": {
        "id": "2pVEwB45_vo6"
      },
      "source": [
        "# Misccelenious"
      ]
    },
    {
      "cell_type": "markdown",
      "metadata": {
        "id": "9Y_BB1RVAfye"
      },
      "source": [
        "## Defining funcitons:"
      ]
    },
    {
      "cell_type": "code",
      "metadata": {
        "id": "Cy3CR2L1AgHg"
      },
      "source": [
        "def linearregression(x,y):\r\n",
        "  \"\"\"\r\n",
        "  Parameters: x and y are n by 1 arrays; in form y=m*x+c\r\n",
        "  Takes a set of x and y coordinates and fits a linear function.\r\n",
        "  Uses analytical method \r\n",
        "\r\n",
        "  Returns: (m,c)\r\n",
        "  \"\"\"\r\n",
        "  m=(np.mean(x*y)-np.mean(x)*np.mean(y))/(np.mean(x**2)-(np.mean(x))**2)\r\n",
        "  c=np.mean(y)-np.mean(x)*m\r\n",
        "\r\n",
        "  return m,c\r\n",
        "\r\n",
        "def line(x,m,c):\r\n",
        "  y=m*x+c\r\n",
        "  return y"
      ],
      "execution_count": 123,
      "outputs": []
    },
    {
      "cell_type": "code",
      "metadata": {
        "id": "5AbQSe1qVHhG"
      },
      "source": [
        ""
      ],
      "execution_count": 121,
      "outputs": []
    },
    {
      "cell_type": "markdown",
      "metadata": {
        "id": "hiKpOxgDZHau"
      },
      "source": [
        "##Finding daniels error"
      ]
    },
    {
      "cell_type": "markdown",
      "metadata": {
        "id": "lm7VpLpUaXgM"
      },
      "source": [
        "*Because daniels data had a sudden jump in the middle, i needed to analyse his data seperate from the others.*"
      ]
    },
    {
      "cell_type": "code",
      "metadata": {
        "id": "qOehdEn5aaLr",
        "outputId": "f1c7f44f-b56d-45e8-effa-d5d5969fae6d",
        "colab": {
          "base_uri": "https://localhost:8080/",
          "height": 282
        }
      },
      "source": [
        "#As you can see here in the plot, including this data as 1 data set would obviously give us erronious results\r\n",
        "#Therefore it must be split into 2 parts. \r\n",
        "#The intention of the pause was to show that the pendulum slows down over time.\r\n",
        "#But we do not know how many time the pendulum have swung during the pause\r\n",
        "\r\n",
        "plt.scatter(daniel_full[:,0],daniel_full[:,1])"
      ],
      "execution_count": 130,
      "outputs": [
        {
          "output_type": "execute_result",
          "data": {
            "text/plain": [
              "<matplotlib.collections.PathCollection at 0x7f31bcab4f98>"
            ]
          },
          "metadata": {
            "tags": []
          },
          "execution_count": 130
        },
        {
          "output_type": "display_data",
          "data": {
            "image/png": "[encoded data removed]",
            "text/plain": [
              "<Figure size 432x288 with 1 Axes>"
            ]
          },
          "metadata": {
            "tags": [],
            "needs_background": "light"
          }
        }
      ]
    },
    {
      "cell_type": "code",
      "metadata": {
        "id": "MNg9sfOS_zsk"
      },
      "source": [
        "#First we split daniels dataset into 2 parts, because his graph makes a sudden jump\r\n",
        "d1=29\r\n",
        "daniel1=daniel_full[:d1,:]\r\n",
        "daniel2=daniel_full[d1:,:]"
      ],
      "execution_count": 125,
      "outputs": []
    },
    {
      "cell_type": "code",
      "metadata": {
        "id": "NUc0iFezTzbu",
        "outputId": "063690a8-559e-4953-cd45-40caa2627e43",
        "colab": {
          "base_uri": "https://localhost:8080/"
        }
      },
      "source": [
        "#Here i find the slope and intercept of daniel 1 and daniel 2 and daniel_full\r\n",
        "\r\n",
        "d1m,d1c=linearregression(daniel1[:,0],daniel1[:,1])\r\n",
        "d2m,d2c=linearregression(daniel1[:,0],daniel1[:,1])\r\n",
        "dm,dc=linearregression(daniel1[:,0],daniel1[:,1])\r\n",
        "\r\n",
        "#lets print the slopes of d1 and d2 to see how much they differ.\r\n",
        "print(d1m,d2m)"
      ],
      "execution_count": 132,
      "outputs": [
        {
          "output_type": "stream",
          "text": [
            "2.651354137931035 2.651354137931035\n"
          ],
          "name": "stdout"
        }
      ]
    },
    {
      "cell_type": "code",
      "metadata": {
        "id": "uzGtoQPcVWr0"
      },
      "source": [
        ""
      ],
      "execution_count": 132,
      "outputs": []
    },
    {
      "cell_type": "code",
      "metadata": {
        "id": "ettk4tSIAN92"
      },
      "source": [
        ""
      ],
      "execution_count": 132,
      "outputs": []
    },
    {
      "cell_type": "code",
      "metadata": {
        "id": "m45NCa00ASXR"
      },
      "source": [
        ""
      ],
      "execution_count": 132,
      "outputs": []
    },
    {
      "cell_type": "code",
      "metadata": {
        "id": "6BY2W5obAXdQ"
      },
      "source": [
        ""
      ],
      "execution_count": 126,
      "outputs": []
    },
    {
      "cell_type": "code",
      "metadata": {
        "id": "Lb8ZhvRHTecB"
      },
      "source": [
        ""
      ],
      "execution_count": 126,
      "outputs": []
    },
    {
      "cell_type": "code",
      "metadata": {
        "id": "E6GxHb7_TgYP"
      },
      "source": [
        ""
      ],
      "execution_count": null,
      "outputs": []
    }
  ]
}