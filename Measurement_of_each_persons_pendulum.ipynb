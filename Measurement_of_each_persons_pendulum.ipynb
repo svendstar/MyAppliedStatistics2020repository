{
  "nbformat": 4,
  "nbformat_minor": 0,
  "metadata": {
    "colab": {
      "name": "Measurement of each persons pendulum.ipynb",
      "provenance": [],
      "collapsed_sections": [],
      "authorship_tag": "ABX9TyNhTx5PquB+W47NnPzlep59",
      "include_colab_link": true
    },
    "kernelspec": {
      "name": "python3",
      "display_name": "Python 3"
    }
  },
  "cells": [
    {
      "cell_type": "markdown",
      "metadata": {
        "id": "view-in-github",
        "colab_type": "text"
      },
      "source": [
        "<a href=\"https://colab.research.google.com/github/svendstar/MyAppliedStatistics2020repository/blob/main/Measurement_of_each_persons_pendulum.ipynb\" target=\"_parent\"><img src=\"https://colab.research.google.com/assets/colab-badge.svg\" alt=\"Open In Colab\"/></a>"
      ]
    },
    {
      "cell_type": "code",
      "metadata": {
        "colab": {
          "base_uri": "https://localhost:8080/"
        },
        "id": "0jMY7RRDMLMp",
        "outputId": "4d5843c9-71f7-4211-9d1a-92fe870361f9"
      },
      "source": [
        "!pip install iminuit"
      ],
      "execution_count": 1,
      "outputs": [
        {
          "output_type": "stream",
          "text": [
            "Collecting iminuit\n",
            "\u001b[?25l  Downloading https://files.pythonhosted.org/packages/98/a9/116d17ddf18855a81488f1930bcf4a2ce9a8b5255f310bceb71f0a838b53/iminuit-2.0.0-cp36-cp36m-manylinux2010_x86_64.whl (283kB)\n",
            "\r\u001b[K     |█▏                              | 10kB 14.3MB/s eta 0:00:01\r\u001b[K     |██▎                             | 20kB 19.1MB/s eta 0:00:01\r\u001b[K     |███▌                            | 30kB 18.5MB/s eta 0:00:01\r\u001b[K     |████▋                           | 40kB 12.6MB/s eta 0:00:01\r\u001b[K     |█████▊                          | 51kB 7.7MB/s eta 0:00:01\r\u001b[K     |███████                         | 61kB 8.0MB/s eta 0:00:01\r\u001b[K     |████████                        | 71kB 7.5MB/s eta 0:00:01\r\u001b[K     |█████████▎                      | 81kB 8.3MB/s eta 0:00:01\r\u001b[K     |██████████▍                     | 92kB 8.6MB/s eta 0:00:01\r\u001b[K     |███████████▌                    | 102kB 9.1MB/s eta 0:00:01\r\u001b[K     |████████████▊                   | 112kB 9.1MB/s eta 0:00:01\r\u001b[K     |█████████████▉                  | 122kB 9.1MB/s eta 0:00:01\r\u001b[K     |███████████████                 | 133kB 9.1MB/s eta 0:00:01\r\u001b[K     |████████████████▏               | 143kB 9.1MB/s eta 0:00:01\r\u001b[K     |█████████████████▎              | 153kB 9.1MB/s eta 0:00:01\r\u001b[K     |██████████████████▌             | 163kB 9.1MB/s eta 0:00:01\r\u001b[K     |███████████████████▋            | 174kB 9.1MB/s eta 0:00:01\r\u001b[K     |████████████████████▉           | 184kB 9.1MB/s eta 0:00:01\r\u001b[K     |██████████████████████          | 194kB 9.1MB/s eta 0:00:01\r\u001b[K     |███████████████████████         | 204kB 9.1MB/s eta 0:00:01\r\u001b[K     |████████████████████████▎       | 215kB 9.1MB/s eta 0:00:01\r\u001b[K     |█████████████████████████▍      | 225kB 9.1MB/s eta 0:00:01\r\u001b[K     |██████████████████████████▋     | 235kB 9.1MB/s eta 0:00:01\r\u001b[K     |███████████████████████████▊    | 245kB 9.1MB/s eta 0:00:01\r\u001b[K     |████████████████████████████▉   | 256kB 9.1MB/s eta 0:00:01\r\u001b[K     |██████████████████████████████  | 266kB 9.1MB/s eta 0:00:01\r\u001b[K     |███████████████████████████████▏| 276kB 9.1MB/s eta 0:00:01\r\u001b[K     |████████████████████████████████| 286kB 9.1MB/s \n",
            "\u001b[?25hRequirement already satisfied: numpy in /usr/local/lib/python3.6/dist-packages (from iminuit) (1.18.5)\n",
            "Installing collected packages: iminuit\n",
            "Successfully installed iminuit-2.0.0\n"
          ],
          "name": "stdout"
        }
      ]
    },
    {
      "cell_type": "markdown",
      "metadata": {
        "id": "dQwMBt21DIyh"
      },
      "source": [
        "# ***Measuring Error on each persons uncertainty in  measuring time: Pendulum.***"
      ]
    },
    {
      "cell_type": "code",
      "metadata": {
        "id": "f7mpxxxIDyyp"
      },
      "source": [
        "import numpy as np\r\n",
        "import matplotlib.pyplot as plt\r\n",
        "from iminuit import Minuit\r\n",
        "import os"
      ],
      "execution_count": 112,
      "outputs": []
    },
    {
      "cell_type": "code",
      "metadata": {
        "id": "BakoigO7DBnD",
        "colab": {
          "base_uri": "https://localhost:8080/"
        },
        "outputId": "f1e89184-49aa-4e0c-eb70-edc3493cc099"
      },
      "source": [
        "!git clone https://github.com/svendstar/MyAppliedStatistics2020repository #Clones my repository (Where i have stored all of the timing files) into Google Colab environment"
      ],
      "execution_count": 113,
      "outputs": [
        {
          "output_type": "stream",
          "text": [
            "fatal: destination path 'MyAppliedStatistics2020repository' already exists and is not an empty directory.\n"
          ],
          "name": "stdout"
        }
      ]
    },
    {
      "cell_type": "markdown",
      "metadata": {
        "id": "GIrdEoc0J6Qr"
      },
      "source": [
        "**I will now create a function that loads each .dat file in a given directory, and saves them under a variable of the same name as a file**"
      ]
    },
    {
      "cell_type": "markdown",
      "metadata": {
        "id": "Z5UzrLdFtKtl"
      },
      "source": [
        "#Groundwork"
      ]
    },
    {
      "cell_type": "markdown",
      "metadata": {
        "id": "vpxvq_OstYV0"
      },
      "source": [
        "### Organizing Data"
      ]
    },
    {
      "cell_type": "code",
      "metadata": {
        "id": "5AbQSe1qVHhG"
      },
      "source": [
        ""
      ],
      "execution_count": 121,
      "outputs": []
    },
    {
      "cell_type": "code",
      "metadata": {
        "id": "mUYTnlXoKOly"
      },
      "source": [
        "#Here i define the function:\r\n",
        "def getfilenames(path):\r\n",
        "  names=[]\r\n",
        "  for filename in os.listdir(path):                   #Get the filename of every file in the specified path\r\n",
        "    names.append(str(os.path.splitext(filename)[0]))  #Append the file name as a string in a list called \"names\"\r\n",
        "  return names"
      ],
      "execution_count": 213,
      "outputs": []
    },
    {
      "cell_type": "code",
      "metadata": {
        "id": "nQ4gtCoakmYZ"
      },
      "source": [
        "filespath=\"MyAppliedStatistics2020repository/Period_measurements/\" #Set the location of the path\r\n",
        "names=getfilenames(filespath)   #Use the newly created function and save all names of the files into \"names\"\r\n",
        "names.sort()                    #Sort the list of file names into alphebetical order for practicality\r\n",
        "#print(names)\r\n"
      ],
      "execution_count": 214,
      "outputs": []
    },
    {
      "cell_type": "code",
      "metadata": {
        "id": "NB_L-YYUh9TK"
      },
      "source": [
        "# Here we will nor create a variable for each of the timings data, and name them according to their original file name.\r\n",
        "for i in names:\r\n",
        "  globals()[i]=np.genfromtxt(\"MyAppliedStatistics2020repository/Period_measurements/\"+i+\".dat\", delimiter=\"\")\r\n",
        "\r\n",
        "#Now we have code to get all of the relevant variables, complicated, but fast and can be be generalized to any number of files in a directory."
      ],
      "execution_count": 215,
      "outputs": []
    },
    {
      "cell_type": "code",
      "metadata": {
        "colab": {
          "base_uri": "https://localhost:8080/"
        },
        "id": "wW_ZmoOwwUWY",
        "outputId": "094da63a-e69f-4ece-daa6-b551c8491e21"
      },
      "source": [
        "#Conviniently compact all of the variables into an array, so i can iterate in a function later\r\n",
        "data=np.array([eval(name) for name in names])\r\n",
        "print(data[1][:,1])"
      ],
      "execution_count": 216,
      "outputs": [
        {
          "output_type": "stream",
          "text": [
            "[ 37.8078  40.4982  43.2977  46.0056  48.5464  51.3801  54.0385  56.6569\n",
            "  59.4345  62.1876  64.7531  67.4444  70.2652  72.9033  75.5768  78.4426\n",
            "  81.0476  83.5963  86.4083  89.0287  91.6992  94.4398  97.1058  99.6825\n",
            " 102.4054 105.1373 107.8847 110.5187 113.2569 115.806  118.6779 121.2945\n",
            " 124.0446 126.5505 129.3223 132.0623 134.5229 137.3086 140.0717 142.732\n",
            " 145.4555 148.1908 150.853  153.5504 156.2839 158.9026 161.6612 164.4332\n",
            " 167.1787 169.7287]\n"
          ],
          "name": "stdout"
        }
      ]
    },
    {
      "cell_type": "markdown",
      "metadata": {
        "id": "NCSELxoykmE0"
      },
      "source": [
        "#Starting analysis"
      ]
    },
    {
      "cell_type": "markdown",
      "metadata": {
        "id": "9Y_BB1RVAfye"
      },
      "source": [
        "## Defining functions:"
      ]
    },
    {
      "cell_type": "code",
      "metadata": {
        "id": "Cy3CR2L1AgHg"
      },
      "source": [
        "def linearregression(x,y):\r\n",
        "  \"\"\"\r\n",
        "  Parameters: x and y are n by 1 arrays; in form y=m*x+c\r\n",
        "  Takes a set of x and y coordinates and fits a linear function.\r\n",
        "  Uses analytical method \r\n",
        "\r\n",
        "  Returns: (m,c)\r\n",
        "  \"\"\"\r\n",
        "  m=(np.mean(x*y)-np.mean(x)*np.mean(y))/(np.mean(x**2)-(np.mean(x))**2)\r\n",
        "  c=np.mean(y)-np.mean(x)*m\r\n",
        "\r\n",
        "  return m,c\r\n",
        "\r\n",
        "def line(x,m,c):\r\n",
        "  y=m*x+c\r\n",
        "  return y"
      ],
      "execution_count": 209,
      "outputs": []
    },
    {
      "cell_type": "code",
      "metadata": {
        "id": "RlFSRLxO3MzB"
      },
      "source": [
        "def linearfit(data):\r\n",
        "  x=data[:,0]\r\n",
        "  slope,intercept=linearregression(data[:,0],data[:,1])\r\n",
        "  y=line(x,slope,intercept)\r\n",
        "  fit=np.array([x,y])\r\n",
        "  return fit\r\n",
        "\r\n",
        "def timingerror(data):\r\n",
        "  fit=linearfit(data)\r\n",
        "  diff=data[:,1]-fit[1]\r\n",
        "  return diff\r\n"
      ],
      "execution_count": 208,
      "outputs": []
    },
    {
      "cell_type": "markdown",
      "metadata": {
        "id": "nNl436Rzu6vk"
      },
      "source": [
        "##Start"
      ]
    },
    {
      "cell_type": "markdown",
      "metadata": {
        "id": "_sJOCWUauZcR"
      },
      "source": [
        "With our data Organized and ready for analysis, and functions defines, we are ready to obtain results."
      ]
    },
    {
      "cell_type": "code",
      "metadata": {
        "id": "WsV9DduFEYol",
        "colab": {
          "base_uri": "https://localhost:8080/",
          "height": 265
        },
        "outputId": "d92bd8fd-124a-477f-f6d6-3ced726b73f0"
      },
      "source": [
        "#First we plot all of our data, to see if we can find any anomalies.\r\n",
        "for i in range(len(data)):\r\n",
        "  plt.scatter(data[i][:,0],data[i][:,1])"
      ],
      "execution_count": 219,
      "outputs": [
        {
          "output_type": "display_data",
          "data": {
            "image/png": "[encoded data removed]",
            "text/plain": [
              "<Figure size 432x288 with 1 Axes>"
            ]
          },
          "metadata": {
            "tags": [],
            "needs_background": "light"
          }
        }
      ]
    },
    {
      "cell_type": "markdown",
      "metadata": {
        "id": "jWub1e5xwe0i"
      },
      "source": [
        "As we can see from above plot, there are 2 anomalies, the red line is from daniels data, and the brown is from yiouli's data. Yioulis data can be explained by the fact that she measured in half periods, so i will take out those 2 datasets and analyse them seperately later in the program."
      ]
    },
    {
      "cell_type": "code",
      "metadata": {
        "id": "Er7-1vrc3HVP"
      },
      "source": [
        "#First we create a new dataset, with only straightforward data:\r\n",
        "index_position1=[0,1,2,4,6]\r\n",
        "data2names=[names[i] for i in index_position]\r\n",
        "data2=[data[i] for i in index_position1]"
      ],
      "execution_count": 229,
      "outputs": []
    },
    {
      "cell_type": "code",
      "metadata": {
        "id": "hyChWZbjxNvm",
        "outputId": "9839a6f6-ee7d-4033-976f-6892a7094459",
        "colab": {
          "base_uri": "https://localhost:8080/",
          "height": 282
        }
      },
      "source": [
        "#we plot the new dataset to see if we got all the correct ones\r\n",
        "for i in range(len(data2)):\r\n",
        "  plt.scatter(data2[i][:,0],data2[i][:,1])\r\n",
        "#yes we did\r\n",
        "print(data2names)"
      ],
      "execution_count": 230,
      "outputs": [
        {
          "output_type": "stream",
          "text": [
            "['LiamOther', 'Liam_Full_Pendulum_Period_timings', 'SvendFullPeriod', 'jiamei_1T', 'yiouli_period']\n"
          ],
          "name": "stdout"
        },
        {
          "output_type": "display_data",
          "data": {
            "image/png": "[encoded data removed]",
            "text/plain": [
              "<Figure size 432x288 with 1 Axes>"
            ]
          },
          "metadata": {
            "tags": [],
            "needs_background": "light"
          }
        }
      ]
    },
    {
      "cell_type": "code",
      "metadata": {
        "id": "_nxHk8XL5rxT",
        "outputId": "e8267bb2-a4c2-4b34-dcb6-aecb4b6a0004",
        "colab": {
          "base_uri": "https://localhost:8080/"
        }
      },
      "source": [
        "\r\n",
        "for i in range(len(data2)):\r\n",
        "  globals()[data2names[i]+\"_sigma\"]=np.std(timingerror(data2[i]))\r\n",
        "  print(data2names[i]+\"_sigma = \",globals()[data2names[i]+\"_sigma\"])\r\n"
      ],
      "execution_count": 260,
      "outputs": [
        {
          "output_type": "stream",
          "text": [
            "LiamOther_sigma =  0.18281717612231788\n",
            "Liam_Full_Pendulum_Period_timings_sigma =  0.07502082067922994\n",
            "SvendFullPeriod_sigma =  0.034004680035367225\n",
            "jiamei_1T_sigma =  0.28291912428108335\n",
            "yiouli_period_sigma =  0.32133784938309623\n"
          ],
          "name": "stdout"
        }
      ]
    },
    {
      "cell_type": "code",
      "metadata": {
        "id": "ZWpBtYVh-k-o",
        "outputId": "99964751-86d9-409d-d87c-f35a9b8e2a62",
        "colab": {
          "base_uri": "https://localhost:8080/"
        }
      },
      "source": [
        "\r\n"
      ],
      "execution_count": 256,
      "outputs": [
        {
          "output_type": "stream",
          "text": [
            "0.18281717612231788\n",
            "0.07502082067922994\n",
            "0.034004680035367225\n",
            "0.28291912428108335\n",
            "0.32133784938309623\n"
          ],
          "name": "stdout"
        }
      ]
    },
    {
      "cell_type": "code",
      "metadata": {
        "colab": {
          "base_uri": "https://localhost:8080/",
          "height": 1000
        },
        "id": "epV5IQi-pUDq",
        "outputId": "7d2ccf07-ddfa-45c4-e07c-67840db7c550"
      },
      "source": [
        "for i in range(len(data2)):\r\n",
        "  plt.figure(i)\r\n",
        "  plt.title(\"Histogram of timings differences from fit for \" + data2names[i])\r\n",
        "  plt.hist(timingerror(data2[i]))\r\n",
        "  plt.savefig(\"Histogram of timings differences from fit for \" + data2names[i])"
      ],
      "execution_count": 244,
      "outputs": [
        {
          "output_type": "display_data",
          "data": {
            "image/png": "[encoded data removed]",
            "text/plain": [
              "<Figure size 432x288 with 1 Axes>"
            ]
          },
          "metadata": {
            "tags": [],
            "needs_background": "light"
          }
        },
        {
          "output_type": "display_data",
          "data": {
            "image/png": "[encoded data removed]",
            "text/plain": [
              "<Figure size 432x288 with 1 Axes>"
            ]
          },
          "metadata": {
            "tags": [],
            "needs_background": "light"
          }
        },
        {
          "output_type": "display_data",
          "data": {
            "image/png": "[encoded data removed]",
            "text/plain": [
              "<Figure size 432x288 with 1 Axes>"
            ]
          },
          "metadata": {
            "tags": [],
            "needs_background": "light"
          }
        },
        {
          "output_type": "display_data",
          "data": {
            "image/png": "[encoded data removed]",
            "text/plain": [
              "<Figure size 432x288 with 1 Axes>"
            ]
          },
          "metadata": {
            "tags": [],
            "needs_background": "light"
          }
        },
        {
          "output_type": "display_data",
          "data": {
            "image/png": "[encoded data removed]",
            "text/plain": [
              "<Figure size 432x288 with 1 Axes>"
            ]
          },
          "metadata": {
            "tags": [],
            "needs_background": "light"
          }
        }
      ]
    },
    {
      "cell_type": "code",
      "metadata": {
        "colab": {
          "base_uri": "https://localhost:8080/",
          "height": 353
        },
        "id": "AekjDSyuqYNP",
        "outputId": "a614cacc-bf61-4926-db93-8fefd16f45f5"
      },
      "source": [
        "plt.hist(Liamdiff)"
      ],
      "execution_count": 239,
      "outputs": [
        {
          "output_type": "execute_result",
          "data": {
            "text/plain": [
              "(array([ 1.,  0.,  4.,  6., 10., 14.,  7.,  6.,  0.,  2.]),\n",
              " array([-0.21353359, -0.17259836, -0.13166313, -0.0907279 , -0.04979267,\n",
              "        -0.00885744,  0.03207779,  0.07301302,  0.11394825,  0.15488348,\n",
              "         0.19581871]),\n",
              " <a list of 10 Patch objects>)"
            ]
          },
          "metadata": {
            "tags": []
          },
          "execution_count": 239
        },
        {
          "output_type": "display_data",
          "data": {
            "image/png": "[encoded data removed]",
            "text/plain": [
              "<Figure size 432x288 with 1 Axes>"
            ]
          },
          "metadata": {
            "tags": [],
            "needs_background": "light"
          }
        }
      ]
    },
    {
      "cell_type": "code",
      "metadata": {
        "id": "N7A7mG_0lhCz"
      },
      "source": [
        ""
      ],
      "execution_count": 209,
      "outputs": []
    },
    {
      "cell_type": "code",
      "metadata": {
        "id": "pnnyWGQL4eXy"
      },
      "source": [
        ""
      ],
      "execution_count": 209,
      "outputs": []
    },
    {
      "cell_type": "code",
      "metadata": {
        "id": "-PoDXatR4h7D"
      },
      "source": [
        ""
      ],
      "execution_count": 210,
      "outputs": []
    },
    {
      "cell_type": "code",
      "metadata": {
        "id": "4oIB6RJ27If8"
      },
      "source": [
        "a,b=uncertainty(yiouli_halfperiod)"
      ],
      "execution_count": null,
      "outputs": []
    },
    {
      "cell_type": "markdown",
      "metadata": {
        "id": "2pVEwB45_vo6"
      },
      "source": [
        "# Misccelenious"
      ]
    },
    {
      "cell_type": "markdown",
      "metadata": {
        "id": "hiKpOxgDZHau"
      },
      "source": [
        "##Finding daniels error"
      ]
    },
    {
      "cell_type": "markdown",
      "metadata": {
        "id": "lm7VpLpUaXgM"
      },
      "source": [
        "*Because daniels data had a sudden jump in the middle, i needed to analyse his data seperate from the others.*"
      ]
    },
    {
      "cell_type": "code",
      "metadata": {
        "colab": {
          "base_uri": "https://localhost:8080/",
          "height": 282
        },
        "id": "qOehdEn5aaLr",
        "outputId": "f1c7f44f-b56d-45e8-effa-d5d5969fae6d"
      },
      "source": [
        "#As you can see here in the plot, including this data as 1 data set would obviously give us erronious results\r\n",
        "#Therefore it must be split into 2 parts. \r\n",
        "#The intention of the pause was to show that the pendulum slows down over time.\r\n",
        "#But we do not know how many time the pendulum have swung during the pause\r\n",
        "\r\n",
        "plt.scatter(daniel_full[:,0],daniel_full[:,1])"
      ],
      "execution_count": 130,
      "outputs": [
        {
          "output_type": "execute_result",
          "data": {
            "text/plain": [
              "<matplotlib.collections.PathCollection at 0x7f31bcab4f98>"
            ]
          },
          "metadata": {
            "tags": []
          },
          "execution_count": 130
        },
        {
          "output_type": "display_data",
          "data": {
            "image/png": "[encoded data removed]",
            "text/plain": [
              "<Figure size 432x288 with 1 Axes>"
            ]
          },
          "metadata": {
            "tags": [],
            "needs_background": "light"
          }
        }
      ]
    },
    {
      "cell_type": "code",
      "metadata": {
        "id": "MNg9sfOS_zsk"
      },
      "source": [
        "#First we split daniels dataset into 2 parts, because his graph makes a sudden jump\r\n",
        "d1=29\r\n",
        "daniel1=daniel_full[:d1,:]\r\n",
        "daniel2=daniel_full[d1:,:]"
      ],
      "execution_count": 125,
      "outputs": []
    },
    {
      "cell_type": "code",
      "metadata": {
        "colab": {
          "base_uri": "https://localhost:8080/"
        },
        "id": "NUc0iFezTzbu",
        "outputId": "063690a8-559e-4953-cd45-40caa2627e43"
      },
      "source": [
        "#Here i find the slope and intercept of daniel 1 and daniel 2 and daniel_full\r\n",
        "\r\n",
        "d1m,d1c=linearregression(daniel1[:,0],daniel1[:,1])\r\n",
        "d2m,d2c=linearregression(daniel1[:,0],daniel1[:,1])\r\n",
        "dm,dc=linearregression(daniel1[:,0],daniel1[:,1])\r\n",
        "\r\n",
        "#lets print the slopes of d1 and d2 to see how much they differ.\r\n",
        "print(d1m,d2m)"
      ],
      "execution_count": 132,
      "outputs": [
        {
          "output_type": "stream",
          "text": [
            "2.651354137931035 2.651354137931035\n"
          ],
          "name": "stdout"
        }
      ]
    },
    {
      "cell_type": "code",
      "metadata": {
        "id": "uzGtoQPcVWr0"
      },
      "source": [
        ""
      ],
      "execution_count": 132,
      "outputs": []
    },
    {
      "cell_type": "code",
      "metadata": {
        "id": "ettk4tSIAN92"
      },
      "source": [
        ""
      ],
      "execution_count": 132,
      "outputs": []
    },
    {
      "cell_type": "code",
      "metadata": {
        "id": "m45NCa00ASXR"
      },
      "source": [
        ""
      ],
      "execution_count": 132,
      "outputs": []
    },
    {
      "cell_type": "code",
      "metadata": {
        "id": "6BY2W5obAXdQ"
      },
      "source": [
        ""
      ],
      "execution_count": 126,
      "outputs": []
    },
    {
      "cell_type": "code",
      "metadata": {
        "id": "Lb8ZhvRHTecB"
      },
      "source": [
        ""
      ],
      "execution_count": 126,
      "outputs": []
    },
    {
      "cell_type": "code",
      "metadata": {
        "id": "E6GxHb7_TgYP"
      },
      "source": [
        ""
      ],
      "execution_count": null,
      "outputs": []
    }
  ]
}