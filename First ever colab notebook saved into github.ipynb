{
  "nbformat": 4,
  "nbformat_minor": 0,
  "metadata": {
    "colab": {
      "name": "Untitled0.ipynb",
      "provenance": [],
      "authorship_tag": "ABX9TyNNrCTcWzWPKbd8dEeshFND",
      "include_colab_link": true
    },
    "kernelspec": {
      "name": "python3",
      "display_name": "Python 3"
    }
  },
  "cells": [
    {
      "cell_type": "markdown",
      "metadata": {
        "id": "view-in-github",
        "colab_type": "text"
      },
      "source": [
        "<a href=\"https://colab.research.google.com/github/svendstar/MyAppliedStatistics2020repository/blob/main/First%20ever%20colab%20notebook%20saved%20into%20github.ipynb\" target=\"_parent\"><img src=\"https://colab.research.google.com/assets/colab-badge.svg\" alt=\"Open In Colab\"/></a>"
      ]
    },
    {
      "cell_type": "markdown",
      "metadata": {
        "id": "y9sGFpkv8y2z"
      },
      "source": [
        "*This is a colab notebook which i am trying to save into github*"
      ]
    },
    {
      "cell_type": "code",
      "metadata": {
        "id": "aUZyLRsF8qA-",
        "colab": {
          "base_uri": "https://localhost:8080/"
        },
        "outputId": "0daab73e-3e9f-44a6-85e5-8c7c549816fb"
      },
      "source": [
        "#!git clone https://github.com/svendstar/MyAppliedStatistics2020repository"
      ],
      "execution_count": 1,
      "outputs": [
        {
          "output_type": "stream",
          "text": [
            "Cloning into 'MyAppliedStatistics2020repository'...\n",
            "remote: Enumerating objects: 9, done.\u001b[K\n",
            "remote: Counting objects: 100% (9/9), done.\u001b[K\n",
            "remote: Compressing objects: 100% (8/8), done.\u001b[K\n",
            "remote: Total 9 (delta 1), reused 0 (delta 0), pack-reused 0\u001b[K\n",
            "Unpacking objects: 100% (9/9), done.\n"
          ],
          "name": "stdout"
        }
      ]
    },
    {
      "cell_type": "code",
      "metadata": {
        "id": "GFKUJIke6-h4"
      },
      "source": [
        "import numpy as np"
      ],
      "execution_count": null,
      "outputs": []
    }
  ]
}