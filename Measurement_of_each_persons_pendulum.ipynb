{
  "nbformat": 4,
  "nbformat_minor": 0,
  "metadata": {
    "colab": {
      "name": "Measurement of each persons pendulum.ipynb",
      "provenance": [],
      "collapsed_sections": [],
      "authorship_tag": "ABX9TyO+mPTtLp7zEoWxKpLgOJZE",
      "include_colab_link": true
    },
    "kernelspec": {
      "name": "python3",
      "display_name": "Python 3"
    }
  },
  "cells": [
    {
      "cell_type": "markdown",
      "metadata": {
        "id": "view-in-github",
        "colab_type": "text"
      },
      "source": [
        "<a href=\"https://colab.research.google.com/github/svendstar/MyAppliedStatistics2020repository/blob/main/Measurement_of_each_persons_pendulum.ipynb\" target=\"_parent\"><img src=\"https://colab.research.google.com/assets/colab-badge.svg\" alt=\"Open In Colab\"/></a>"
      ]
    },
    {
      "cell_type": "markdown",
      "metadata": {
        "id": "dQwMBt21DIyh"
      },
      "source": [
        "Measuring Error on each persons measuring time: Pendulum."
      ]
    },
    {
      "cell_type": "code",
      "metadata": {
        "id": "f7mpxxxIDyyp"
      },
      "source": [
        "import numpy as np\r\n",
        "import matplotlib.pyplot as plt"
      ],
      "execution_count": 44,
      "outputs": []
    },
    {
      "cell_type": "code",
      "metadata": {
        "id": "BakoigO7DBnD"
      },
      "source": [
        "!git clone https://github.com/svendstar/MyAppliedStatistics2020repository #Clones my repository into Google Colab environment"
      ],
      "execution_count": null,
      "outputs": []
    },
    {
      "cell_type": "markdown",
      "metadata": {
        "id": "GIrdEoc0J6Qr"
      },
      "source": [
        "**I Will now create a function that loads each dat file in a given directory, and saves them under a variable of the same name as a file**"
      ]
    },
    {
      "cell_type": "code",
      "metadata": {
        "id": "mUYTnlXoKOly"
      },
      "source": [
        "def createvariables(path):\r\n",
        "  return 0"
      ],
      "execution_count": 41,
      "outputs": []
    },
    {
      "cell_type": "code",
      "metadata": {
        "id": "VLCKOIZ0Jrpi"
      },
      "source": [
        "filespath=\"MyAppliedStatistics2020repository/Period_measurements/\""
      ],
      "execution_count": 38,
      "outputs": []
    },
    {
      "cell_type": "code",
      "metadata": {
        "id": "eCMDETOUDYxL"
      },
      "source": [
        "Liam_fullperiod=np.genfromtxt(\"MyAppliedStatistics2020repository/Period_measurements/Liam_Full_Pendulum_Period_timings.dat\", delimiter=\"\")\r\n"
      ],
      "execution_count": 19,
      "outputs": []
    },
    {
      "cell_type": "code",
      "metadata": {
        "id": "WsV9DduFEYol"
      },
      "source": [
        "x=Liam_fullperiod[:,0]\r\n",
        "y=Liam_fullperiod[:,1]"
      ],
      "execution_count": 42,
      "outputs": []
    },
    {
      "cell_type": "code",
      "metadata": {
        "colab": {
          "base_uri": "https://localhost:8080/",
          "height": 282
        },
        "id": "HpkgE6cbFrvu",
        "outputId": "cfb06aba-2d82-4c0f-d270-07aaadcfdf65"
      },
      "source": [
        "plt.scatter(x,y,color='r')"
      ],
      "execution_count": 49,
      "outputs": [
        {
          "output_type": "execute_result",
          "data": {
            "text/plain": [
              "<matplotlib.collections.PathCollection at 0x7f13ae24f630>"
            ]
          },
          "metadata": {
            "tags": []
          },
          "execution_count": 49
        },
        {
          "output_type": "display_data",
          "data": {
            "image/png": "[encoded data removed]",
            "text/plain": [
              "<Figure size 432x288 with 1 Axes>"
            ]
          },
          "metadata": {
            "tags": [],
            "needs_background": "light"
          }
        }
      ]
    },
    {
      "cell_type": "code",
      "metadata": {
        "id": "LwiIKP8_G8Mn"
      },
      "source": [
        ""
      ],
      "execution_count": null,
      "outputs": []
    }
  ]
}