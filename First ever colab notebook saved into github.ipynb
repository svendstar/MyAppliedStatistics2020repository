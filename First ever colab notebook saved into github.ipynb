{
  "nbformat": 4,
  "nbformat_minor": 0,
  "metadata": {
    "colab": {
      "name": "Untitled0.ipynb",
      "provenance": [],
      "authorship_tag": "ABX9TyMFr5Iw9IX7hv8tSN/ebDzy",
      "include_colab_link": true
    },
    "kernelspec": {
      "name": "python3",
      "display_name": "Python 3"
    }
  },
  "cells": [
    {
      "cell_type": "markdown",
      "metadata": {
        "id": "view-in-github",
        "colab_type": "text"
      },
      "source": [
        "<a href=\"https://colab.research.google.com/github/svendstar/MyAppliedStatistics2020repository/blob/main/First%20ever%20colab%20notebook%20saved%20into%20github.ipynb\" target=\"_parent\"><img src=\"https://colab.research.google.com/assets/colab-badge.svg\" alt=\"Open In Colab\"/></a>"
      ]
    },
    {
      "cell_type": "markdown",
      "metadata": {
        "id": "y9sGFpkv8y2z"
      },
      "source": [
        "*This is a colab notebook which i am trying to save into github*"
      ]
    },
    {
      "cell_type": "code",
      "metadata": {
        "id": "aUZyLRsF8qA-"
      },
      "source": [
        "!git clone https://github.com/svendstar/MyAppliedStatistics2020repository"
      ],
      "execution_count": null,
      "outputs": []
    },
    {
      "cell_type": "code",
      "metadata": {
        "id": "GFKUJIke6-h4"
      },
      "source": [
        "import numpy as np"
      ],
      "execution_count": 6,
      "outputs": []
    }
  ]
}