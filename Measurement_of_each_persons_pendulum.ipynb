{
  "nbformat": 4,
  "nbformat_minor": 0,
  "metadata": {
    "colab": {
      "name": "Measurement of each persons pendulum.ipynb",
      "provenance": [],
      "collapsed_sections": [],
      "authorship_tag": "ABX9TyPasMuz+FzYpQPBM+povglD",
      "include_colab_link": true
    },
    "kernelspec": {
      "name": "python3",
      "display_name": "Python 3"
    }
  },
  "cells": [
    {
      "cell_type": "markdown",
      "metadata": {
        "id": "view-in-github",
        "colab_type": "text"
      },
      "source": [
        "<a href=\"https://colab.research.google.com/github/svendstar/MyAppliedStatistics2020repository/blob/main/Measurement_of_each_persons_pendulum.ipynb\" target=\"_parent\"><img src=\"https://colab.research.google.com/assets/colab-badge.svg\" alt=\"Open In Colab\"/></a>"
      ]
    },
    {
      "cell_type": "code",
      "metadata": {
        "colab": {
          "base_uri": "https://localhost:8080/"
        },
        "id": "0jMY7RRDMLMp",
        "outputId": "4d5843c9-71f7-4211-9d1a-92fe870361f9"
      },
      "source": [
        "!pip install iminuit"
      ],
      "execution_count": 1,
      "outputs": [
        {
          "output_type": "stream",
          "text": [
            "Collecting iminuit\n",
            "\u001b[?25l  Downloading https://files.pythonhosted.org/packages/98/a9/116d17ddf18855a81488f1930bcf4a2ce9a8b5255f310bceb71f0a838b53/iminuit-2.0.0-cp36-cp36m-manylinux2010_x86_64.whl (283kB)\n",
            "\r\u001b[K     |█▏                              | 10kB 14.3MB/s eta 0:00:01\r\u001b[K     |██▎                             | 20kB 19.1MB/s eta 0:00:01\r\u001b[K     |███▌                            | 30kB 18.5MB/s eta 0:00:01\r\u001b[K     |████▋                           | 40kB 12.6MB/s eta 0:00:01\r\u001b[K     |█████▊                          | 51kB 7.7MB/s eta 0:00:01\r\u001b[K     |███████                         | 61kB 8.0MB/s eta 0:00:01\r\u001b[K     |████████                        | 71kB 7.5MB/s eta 0:00:01\r\u001b[K     |█████████▎                      | 81kB 8.3MB/s eta 0:00:01\r\u001b[K     |██████████▍                     | 92kB 8.6MB/s eta 0:00:01\r\u001b[K     |███████████▌                    | 102kB 9.1MB/s eta 0:00:01\r\u001b[K     |████████████▊                   | 112kB 9.1MB/s eta 0:00:01\r\u001b[K     |█████████████▉                  | 122kB 9.1MB/s eta 0:00:01\r\u001b[K     |███████████████                 | 133kB 9.1MB/s eta 0:00:01\r\u001b[K     |████████████████▏               | 143kB 9.1MB/s eta 0:00:01\r\u001b[K     |█████████████████▎              | 153kB 9.1MB/s eta 0:00:01\r\u001b[K     |██████████████████▌             | 163kB 9.1MB/s eta 0:00:01\r\u001b[K     |███████████████████▋            | 174kB 9.1MB/s eta 0:00:01\r\u001b[K     |████████████████████▉           | 184kB 9.1MB/s eta 0:00:01\r\u001b[K     |██████████████████████          | 194kB 9.1MB/s eta 0:00:01\r\u001b[K     |███████████████████████         | 204kB 9.1MB/s eta 0:00:01\r\u001b[K     |████████████████████████▎       | 215kB 9.1MB/s eta 0:00:01\r\u001b[K     |█████████████████████████▍      | 225kB 9.1MB/s eta 0:00:01\r\u001b[K     |██████████████████████████▋     | 235kB 9.1MB/s eta 0:00:01\r\u001b[K     |███████████████████████████▊    | 245kB 9.1MB/s eta 0:00:01\r\u001b[K     |████████████████████████████▉   | 256kB 9.1MB/s eta 0:00:01\r\u001b[K     |██████████████████████████████  | 266kB 9.1MB/s eta 0:00:01\r\u001b[K     |███████████████████████████████▏| 276kB 9.1MB/s eta 0:00:01\r\u001b[K     |████████████████████████████████| 286kB 9.1MB/s \n",
            "\u001b[?25hRequirement already satisfied: numpy in /usr/local/lib/python3.6/dist-packages (from iminuit) (1.18.5)\n",
            "Installing collected packages: iminuit\n",
            "Successfully installed iminuit-2.0.0\n"
          ],
          "name": "stdout"
        }
      ]
    },
    {
      "cell_type": "markdown",
      "metadata": {
        "id": "dQwMBt21DIyh"
      },
      "source": [
        "### ***Measuring Error on each persons uncertainty in  measuring time: Pendulum.***"
      ]
    },
    {
      "cell_type": "code",
      "metadata": {
        "id": "f7mpxxxIDyyp"
      },
      "source": [
        "import numpy as np\r\n",
        "import matplotlib.pyplot as plt\r\n",
        "from iminuit import Minuit\r\n",
        "import os"
      ],
      "execution_count": 5,
      "outputs": []
    },
    {
      "cell_type": "code",
      "metadata": {
        "id": "BakoigO7DBnD",
        "colab": {
          "base_uri": "https://localhost:8080/"
        },
        "outputId": "690854d6-c5ea-477a-d926-00eeff1c9c14"
      },
      "source": [
        "!git clone https://github.com/svendstar/MyAppliedStatistics2020repository #Clones my repository (Where i have stored all of the timing files) into Google Colab environment"
      ],
      "execution_count": 3,
      "outputs": [
        {
          "output_type": "stream",
          "text": [
            "Cloning into 'MyAppliedStatistics2020repository'...\n",
            "remote: Enumerating objects: 36, done.\u001b[K\n",
            "remote: Counting objects: 100% (36/36), done.\u001b[K\n",
            "remote: Compressing objects: 100% (35/35), done.\u001b[K\n",
            "remote: Total 36 (delta 13), reused 0 (delta 0), pack-reused 0\u001b[K\n",
            "Unpacking objects: 100% (36/36), done.\n"
          ],
          "name": "stdout"
        }
      ]
    },
    {
      "cell_type": "markdown",
      "metadata": {
        "id": "GIrdEoc0J6Qr"
      },
      "source": [
        "**I will now create a function that loads each .dat file in a given directory, and saves them under a variable of the same name as a file**"
      ]
    },
    {
      "cell_type": "code",
      "metadata": {
        "id": "mUYTnlXoKOly"
      },
      "source": [
        "#Here i define the function:\r\n",
        "def getfilenames(path):\r\n",
        "  names=[]\r\n",
        "  for filename in os.listdir(path):                   #Get the filename of every file in the specified path\r\n",
        "    names.append(str(os.path.splitext(filename)[0]))  #Append the file name as a string in a list called \"names\"\r\n",
        "  return names"
      ],
      "execution_count": 51,
      "outputs": []
    },
    {
      "cell_type": "code",
      "metadata": {
        "id": "nQ4gtCoakmYZ"
      },
      "source": [
        "filespath=\"MyAppliedStatistics2020repository/Period_measurements/\" #Set the location of the path\r\n",
        "names=getfilenames(filespath)   #Use the newly created function and save all names of the files into \"names\"\r\n",
        "names.sort()                    #Sort the list of file names into alphebetical order for practicality\r\n",
        "#print(names)\r\n"
      ],
      "execution_count": 52,
      "outputs": []
    },
    {
      "cell_type": "code",
      "metadata": {
        "id": "NB_L-YYUh9TK"
      },
      "source": [
        "# Here we will nor create a variable for each of the timings data, and name them according to their original file name.\r\n",
        "for i in names:\r\n",
        "  globals()[i]=np.genfromtxt(\"MyAppliedStatistics2020repository/Period_measurements/\"+i+\".dat\", delimiter=\"\")\r\n",
        "\r\n",
        "#Now we have code to get all of the relevant variables, complicated, but fast and can be be generalized to any number of files in a directory."
      ],
      "execution_count": 48,
      "outputs": []
    },
    {
      "cell_type": "code",
      "metadata": {
        "id": "wW_ZmoOwwUWY"
      },
      "source": [
        ""
      ],
      "execution_count": 62,
      "outputs": []
    },
    {
      "cell_type": "markdown",
      "metadata": {
        "id": "NCSELxoykmE0"
      },
      "source": [
        ""
      ]
    },
    {
      "cell_type": "code",
      "metadata": {
        "id": "WsV9DduFEYol",
        "colab": {
          "base_uri": "https://localhost:8080/",
          "height": 282
        },
        "outputId": "d5e32b7a-5653-4de6-c8b0-7421ece19c06"
      },
      "source": [
        "plt.scatter(LiamOther[:,0],LiamOther[:,1])\r\n",
        "plt.scatter(Liam_Full_Pendulum_Period_timings[:,0],Liam_Full_Pendulum_Period_timings[:,1])"
      ],
      "execution_count": 62,
      "outputs": [
        {
          "output_type": "execute_result",
          "data": {
            "text/plain": [
              "<matplotlib.collections.PathCollection at 0x7f31bd2f5fd0>"
            ]
          },
          "metadata": {
            "tags": []
          },
          "execution_count": 62
        },
        {
          "output_type": "display_data",
          "data": {
            "image/png": "[encoded data removed]",
            "text/plain": [
              "<Figure size 432x288 with 1 Axes>"
            ]
          },
          "metadata": {
            "tags": [],
            "needs_background": "light"
          }
        }
      ]
    },
    {
      "cell_type": "code",
      "metadata": {
        "id": "Er7-1vrc3HVP",
        "outputId": "064b3ad5-6c65-4ef7-dd73-d8312a435b01",
        "colab": {
          "base_uri": "https://localhost:8080/",
          "height": 282
        }
      },
      "source": [
        "plt.scatter(Liam_Full_Pendulum_Period_timings[:,0],Liam_Full_Pendulum_Period_timings[:,1])"
      ],
      "execution_count": 61,
      "outputs": [
        {
          "output_type": "execute_result",
          "data": {
            "text/plain": [
              "<matplotlib.collections.PathCollection at 0x7f31bd39e1d0>"
            ]
          },
          "metadata": {
            "tags": []
          },
          "execution_count": 61
        },
        {
          "output_type": "display_data",
          "data": {
            "image/png": "[encoded data removed]",
            "text/plain": [
              "<Figure size 432x288 with 1 Axes>"
            ]
          },
          "metadata": {
            "tags": [],
            "needs_background": "light"
          }
        }
      ]
    },
    {
      "cell_type": "code",
      "metadata": {
        "id": "RlFSRLxO3MzB"
      },
      "source": [
        ""
      ],
      "execution_count": null,
      "outputs": []
    }
  ]
}